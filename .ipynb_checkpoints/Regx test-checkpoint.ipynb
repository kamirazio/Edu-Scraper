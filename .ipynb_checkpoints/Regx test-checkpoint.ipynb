{
 "cells": [
  {
   "cell_type": "code",
   "execution_count": 48,
   "metadata": {},
   "outputs": [
    {
     "name": "stdout",
     "output_type": "stream",
     "text": [
      "None\n"
     ]
    }
   ],
   "source": [
    "import re\n",
    "\n",
    "# script_main = \"'She was cute!'\"\n",
    "# script_main = \"She was cute?\"\n",
    "# script_main = \"'This was terrible!'\"\n",
    "script_main = \"'This was terrible?'\"\n",
    "\n",
    "# pattern = \"(\\?|\\!)\"\n",
    "# pattern = \"(\\'|\\\")\"\n",
    "# pattern = \".\"\n",
    "pattern = \"[\\.+|\\?+|\\!+]{1}[\\'+|\\\"+]{1}$\"\n",
    "\n",
    "repatter = re.compile(pattern)\n",
    "# matchOB = repatter.match(script_main)\n",
    "matchOB = re.match(pattern , script_main)\n",
    "\n",
    "if matchOB is not None:\n",
    "    print(matchOB.group())\n",
    "elif matchOB is None:\n",
    "    print(matchOB)\n",
    "else:\n",
    "    \"?\""
   ]
  },
  {
   "cell_type": "code",
   "execution_count": 11,
   "metadata": {},
   "outputs": [
    {
     "name": "stdout",
     "output_type": "stream",
     "text": [
      "ca\n"
     ]
    }
   ],
   "source": [
    "pattern = r\"ca\"\n",
    "text = \"caabsacasca\"\n",
    "repatter = re.compile(pattern)\n",
    "matchOB = repatter.match(text)\n",
    "print(matchOB.group())"
   ]
  },
  {
   "cell_type": "code",
   "execution_count": 12,
   "metadata": {},
   "outputs": [
    {
     "name": "stdout",
     "output_type": "stream",
     "text": [
      "ca\n"
     ]
    }
   ],
   "source": [
    "pattern = r\"ca\"\n",
    "text = \"caabsacasca\"\n",
    "matchOB = re.match(pattern , text)\n",
    "print(matchOB.group())"
   ]
  },
  {
   "cell_type": "code",
   "execution_count": null,
   "metadata": {
    "collapsed": true
   },
   "outputs": [],
   "source": []
  }
 ],
 "metadata": {
  "kernelspec": {
   "display_name": "Python 3",
   "language": "python",
   "name": "python3"
  },
  "language_info": {
   "codemirror_mode": {
    "name": "ipython",
    "version": 3
   },
   "file_extension": ".py",
   "mimetype": "text/x-python",
   "name": "python",
   "nbconvert_exporter": "python",
   "pygments_lexer": "ipython3",
   "version": "3.6.1"
  }
 },
 "nbformat": 4,
 "nbformat_minor": 2
}
